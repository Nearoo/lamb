{
 "cells": [
  {
   "cell_type": "markdown",
   "metadata": {},
   "source": [
    "# Lamb 🐑: Concise Function Description in Python"
   ]
  },
  {
   "cell_type": "code",
   "execution_count": 1,
   "metadata": {},
   "outputs": [],
   "source": [
    "from lamb import *"
   ]
  },
  {
   "cell_type": "markdown",
   "metadata": {},
   "source": [
    "## Introduction"
   ]
  },
  {
   "cell_type": "markdown",
   "metadata": {},
   "source": [
    "This module allows to express simple functions in a compact and intuitive way using a single object called `lamb`. \n",
    "\n",
    "\n",
    "`lamb`s can be thought of as placeholder for variables inside an expression. The expression can then be evaluated as if it was a function, where each `lamb` gets replaced with a function argument.\n",
    "\n",
    "For instance, the following line filters all elements from a list who's `mod-4` equivalence is not greater than 2:"
   ]
  },
  {
   "cell_type": "code",
   "execution_count": 2,
   "metadata": {},
   "outputs": [],
   "source": [
    "filtered = filter(lamb % 4 > 2, range(10))\n",
    "\n",
    "print(list(filtered))"
   ]
  },
  {
   "cell_type": "markdown",
   "metadata": {},
   "source": [
    "## Arithmetic and Boolean Operators\n",
    "Arithmetic operations and boolean comparators can also be freely chained together to create more complex expressions:"
   ]
  },
  {
   "cell_type": "code",
   "execution_count": 3,
   "metadata": {},
   "outputs": [],
   "source": [
    "f = (lamb ** 2 + 30) % 15 == 10\n",
    "\n",
    "f(5)"
   ]
  },
  {
   "cell_type": "markdown",
   "metadata": {},
   "source": [
    "## Function Chaining\n",
    "There is also the possibility to chain arbitrary functions. The rightshift operator (`>>`) is overloaded such that if it is called with functions as arguments, it chains them together:"
   ]
  },
  {
   "cell_type": "code",
   "execution_count": 4,
   "metadata": {},
   "outputs": [
    {
     "data": {
      "text/plain": [
       "2"
      ]
     },
     "execution_count": 4,
     "metadata": {},
     "output_type": "execute_result"
    }
   ],
   "source": [
    "def a(x):\n",
    "    return x + 2\n",
    "\n",
    "def b(y):\n",
    "    return y * 3\n",
    "\n",
    "g = (lamb >> a >> b) % 4\n",
    "\n",
    "g(4)"
   ]
  },
  {
   "cell_type": "markdown",
   "metadata": {},
   "source": [
    "## Attribute, Methods and Indexes\n",
    "`lamb` can also be used to create functions applicable on class instances; getting attributes, calling methods or accessing  indexed data works as would intuitively be expected:"
   ]
  },
  {
   "cell_type": "code",
   "execution_count": 5,
   "metadata": {},
   "outputs": [
    {
     "data": {
      "text/plain": [
       "3"
      ]
     },
     "execution_count": 5,
     "metadata": {},
     "output_type": "execute_result"
    }
   ],
   "source": [
    "class A:\n",
    "    def x(self):\n",
    "        return [1, 2, 3]\n",
    "    \n",
    "\n",
    "f = lamb.x()[2]\n",
    "\n",
    "f(A())"
   ]
  },
  {
   "cell_type": "markdown",
   "metadata": {},
   "source": [
    "## Applying builting functions\n",
    "To apply builtin functions to an object, `lamb` provides a submodule containing deferred versions of all builtin functions. They can be invoked by writing the original function name but with a trailing underscore `_`:"
   ]
  },
  {
   "cell_type": "code",
   "execution_count": 6,
   "metadata": {},
   "outputs": [
    {
     "name": "stdout",
     "output_type": "stream",
     "text": [
      "[2]\n"
     ]
    }
   ],
   "source": [
    "from lamb.builtins_ import *\n",
    "\n",
    "a = {1:2}\n",
    "l = list_(lamb.values())\n",
    "\n",
    "print(l(a))"
   ]
  },
  {
   "cell_type": "markdown",
   "metadata": {},
   "source": [
    "## Multi-Lamb Expressions, Dynamic Lamb Generators\n",
    "There can also be multiple lambs in a single expression. When called, arguments are then applied to the lambs from left to right. This can be slightly confusing, since intuitively, lambs look like variables, and the same variable should get the same value. It's thus a good idea to rename the lambs to different variable names."
   ]
  },
  {
   "cell_type": "code",
   "execution_count": 7,
   "metadata": {},
   "outputs": [
    {
     "data": {
      "text/plain": [
       "9"
      ]
     },
     "execution_count": 7,
     "metadata": {},
     "output_type": "execute_result"
    }
   ],
   "source": [
    "x = y = z = lamb\n",
    "f = (x + y) * z\n",
    "f(1, 2, 3)"
   ]
  },
  {
   "cell_type": "markdown",
   "metadata": {},
   "source": [
    "But writing `x = y = z = lamb` each time a new multi-lamb expression is created is a bit tedious and the defeats the purpose of lambs overall. There's thus a submodule called `vs` provided that generates lamb-names for all letters in the alphabet. To avoid name-clashes in the current namespace, we can dynamically add pre- and postfixes to all lamb-names by adding pre- and postfixes to the module name `vs`:"
   ]
  },
  {
   "cell_type": "code",
   "execution_count": 8,
   "metadata": {},
   "outputs": [
    {
     "name": "stdout",
     "output_type": "stream",
     "text": [
      "🐑 🐑 🐑 🐑 🐑 🐑\n",
      "🐑 🐑 🐑 🐑\n"
     ]
    }
   ],
   "source": [
    "from lamb.vs import *\n",
    "print(a, b, c, x, y, z)\n",
    "\n",
    "from lamb.__vs_pfix import *\n",
    "from lamb.obj_vs import *\n",
    "\n",
    "print(__a_pfix, __c_pfix, obj_a, obj_b)"
   ]
  },
  {
   "cell_type": "markdown",
   "metadata": {},
   "source": [
    "## Partial Application\n",
    "Partial application is possible as well. Nothing is required but calling with fewer arguments."
   ]
  },
  {
   "cell_type": "code",
   "execution_count": 10,
   "metadata": {},
   "outputs": [
    {
     "name": "stdout",
     "output_type": "stream",
     "text": [
      "9\n"
     ]
    }
   ],
   "source": [
    "f = (x + y) * z\n",
    "\n",
    "print(f(1, 2)(3))"
   ]
  }
 ],
 "metadata": {
  "kernelspec": {
   "display_name": "Python 3.8.0 64-bit",
   "language": "python",
   "name": "python38064bitd46bc7e30fdc4d81909a85c8ee50b6c2"
  },
  "language_info": {
   "codemirror_mode": {
    "name": "ipython",
    "version": 3
   },
   "file_extension": ".py",
   "mimetype": "text/x-python",
   "name": "python",
   "nbconvert_exporter": "python",
   "pygments_lexer": "ipython3",
   "version": "3.8.0"
  }
 },
 "nbformat": 4,
 "nbformat_minor": 4
}
