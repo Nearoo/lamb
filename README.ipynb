{
 "cells": [
  {
   "cell_type": "markdown",
   "metadata": {},
   "source": [
    "# Lamb 🐑: Concise Function Description in Python"
   ]
  },
  {
   "cell_type": "code",
   "execution_count": 1,
   "metadata": {},
   "outputs": [],
   "source": [
    "from lamb import *"
   ]
  },
  {
   "cell_type": "markdown",
   "metadata": {},
   "source": [
    "This module allows to create simple functions in a compact and intuitive way by utilizing a single object called `lamb`. It's intended to make it easier to write short lambda expresions.\n",
    "\n",
    "\n",
    "`lamb`s can be thought of as placeholder for for function arguments inside expressions.\n",
    "For instance, the following line filters elements from a list, who's `mod-4` equivalence is greater than 2:"
   ]
  },
  {
   "cell_type": "code",
   "execution_count": 2,
   "metadata": {},
   "outputs": [
    {
     "name": "stdout",
     "output_type": "stream",
     "text": [
      "[3, 7]\n"
     ]
    }
   ],
   "source": [
    "filtered = filter(lamb % 4 > 2, range(10))\n",
    "\n",
    "print(list(filtered))"
   ]
  },
  {
   "cell_type": "markdown",
   "metadata": {},
   "source": [
    "Arithmetic operations and boolean comparators can also be freely chained together to create more complex expressions:"
   ]
  },
  {
   "cell_type": "code",
   "execution_count": 3,
   "metadata": {},
   "outputs": [
    {
     "data": {
      "text/plain": [
       "True"
      ]
     },
     "execution_count": 3,
     "metadata": {},
     "output_type": "execute_result"
    }
   ],
   "source": [
    "f = (lamb ** 2 + 30) % 15 == 10\n",
    "\n",
    "f(5)"
   ]
  },
  {
   "cell_type": "markdown",
   "metadata": {},
   "source": [
    "To chain arbitrary functions, the rightsfhit (`>>`) operator can be used:"
   ]
  },
  {
   "cell_type": "code",
   "execution_count": 4,
   "metadata": {},
   "outputs": [
    {
     "data": {
      "text/plain": [
       "2"
      ]
     },
     "execution_count": 4,
     "metadata": {},
     "output_type": "execute_result"
    }
   ],
   "source": [
    "def a(x):\n",
    "    return x + 2\n",
    "\n",
    "def b(y):\n",
    "    return y * 3\n",
    "\n",
    "g = (lamb >> a >> b) % 4\n",
    "\n",
    "g(4)"
   ]
  },
  {
   "cell_type": "markdown",
   "metadata": {},
   "source": [
    "`lamb` can also be used to create functions applicable on class instances; gettin attributes, calling methods or accessing  indexed data is as simple as a breeze:"
   ]
  },
  {
   "cell_type": "code",
   "execution_count": 5,
   "metadata": {},
   "outputs": [
    {
     "data": {
      "text/plain": [
       "3"
      ]
     },
     "execution_count": 5,
     "metadata": {},
     "output_type": "execute_result"
    }
   ],
   "source": [
    "class A:\n",
    "    def x(self):\n",
    "        return [1, 2, 3]\n",
    "    \n",
    "\n",
    "f = lamb.x()[2]\n",
    "\n",
    "f(A())"
   ]
  },
  {
   "cell_type": "markdown",
   "metadata": {},
   "source": [
    "Overloading builtin functions is generally a bad idea; however, a module is provided that automatically generates deferring functions for all builtin functions:"
   ]
  },
  {
   "cell_type": "code",
   "execution_count": 6,
   "metadata": {},
   "outputs": [
    {
     "name": "stdout",
     "output_type": "stream",
     "text": [
      "2\n"
     ]
    }
   ],
   "source": [
    "from lamb.builtins_ import *\n",
    "\n",
    "a = {1:2}\n",
    "l = list_(lamb.values())[0]\n",
    "\n",
    "print(l(a))"
   ]
  },
  {
   "cell_type": "markdown",
   "metadata": {},
   "source": [
    "There can also be multiple lambs in a single expression. When called, arguments are then applied to the lambs from left to right. To make this slightly less confusing, it's a good idea to give each lamb a different name:"
   ]
  },
  {
   "cell_type": "code",
   "execution_count": 10,
   "metadata": {},
   "outputs": [
    {
     "data": {
      "text/plain": [
       "True"
      ]
     },
     "execution_count": 10,
     "metadata": {},
     "output_type": "execute_result"
    }
   ],
   "source": [
    "x_ = y_ = z_ = lamb\n",
    "\n",
    "f = (x_ - y_) == z_\n",
    "\n",
    "f(1, 2, -1)"
   ]
  },
  {
   "cell_type": "markdown",
   "metadata": {},
   "source": [
    "Lambs also allow partial function application; doing so requires no additional steps apart from simply applying fewer arguments:"
   ]
  },
  {
   "cell_type": "code",
   "execution_count": 9,
   "metadata": {},
   "outputs": [
    {
     "name": "stdout",
     "output_type": "stream",
     "text": [
      "🐑\n",
      "True\n"
     ]
    }
   ],
   "source": [
    "g = f(1, 2)\n",
    "print(g)\n",
    "\n",
    "print(g(-1))"
   ]
  },
  {
   "cell_type": "markdown",
   "metadata": {},
   "source": [
    "i don't even know what's going on here, but it's intutive & works"
   ]
  },
  {
   "cell_type": "code",
   "execution_count": 18,
   "metadata": {},
   "outputs": [
    {
     "data": {
      "text/plain": [
       "4"
      ]
     },
     "execution_count": 18,
     "metadata": {},
     "output_type": "execute_result"
    }
   ],
   "source": [
    "h = lamb + 2\n",
    "\n",
    "g = h(lamb)\n",
    "\n",
    "g(2)"
   ]
  }
 ],
 "metadata": {
  "kernelspec": {
   "display_name": "Python 3.8.0 64-bit",
   "language": "python",
   "name": "python38064bitd46bc7e30fdc4d81909a85c8ee50b6c2"
  },
  "language_info": {
   "codemirror_mode": {
    "name": "ipython",
    "version": 3
   },
   "file_extension": ".py",
   "mimetype": "text/x-python",
   "name": "python",
   "nbconvert_exporter": "python",
   "pygments_lexer": "ipython3",
   "version": "3.8.0"
  }
 },
 "nbformat": 4,
 "nbformat_minor": 4
}
